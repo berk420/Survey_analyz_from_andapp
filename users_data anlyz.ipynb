{
 "cells": [
  {
   "cell_type": "code",
   "execution_count": 1,
   "id": "1e03dde3",
   "metadata": {
    "scrolled": true
   },
   "outputs": [
    {
     "data": {
      "text/html": [
       "<div>\n",
       "<style scoped>\n",
       "    .dataframe tbody tr th:only-of-type {\n",
       "        vertical-align: middle;\n",
       "    }\n",
       "\n",
       "    .dataframe tbody tr th {\n",
       "        vertical-align: top;\n",
       "    }\n",
       "\n",
       "    .dataframe thead th {\n",
       "        text-align: right;\n",
       "    }\n",
       "</style>\n",
       "<table border=\"1\" class=\"dataframe\">\n",
       "  <thead>\n",
       "    <tr style=\"text-align: right;\">\n",
       "      <th></th>\n",
       "      <th>username</th>\n",
       "      <th>password</th>\n",
       "      <th>kullanıcı_yas</th>\n",
       "      <th>kullanıcı_medeni_durum</th>\n",
       "      <th>gelir_seviyesi</th>\n",
       "      <th>yaşanıla_bolge</th>\n",
       "      <th>pdfdata</th>\n",
       "      <th>pdf_icerk</th>\n",
       "      <th>Pdfdata_kolay_words</th>\n",
       "      <th>Pdfdata_orta_words</th>\n",
       "      <th>Pdfdata_zor_words</th>\n",
       "    </tr>\n",
       "  </thead>\n",
       "  <tbody>\n",
       "    <tr>\n",
       "      <th>0</th>\n",
       "      <td>gir1</td>\n",
       "      <td>123</td>\n",
       "      <td>20</td>\n",
       "      <td>bekar</td>\n",
       "      <td>2000</td>\n",
       "      <td>iç anadolu</td>\n",
       "      <td>im feeling rather rotten so im not very ambiti...</td>\n",
       "      <td>sadness; 0,45</td>\n",
       "      <td>[very, when, not, her, now, me, from, because,...</td>\n",
       "      <td>[ashamed]</td>\n",
       "      <td>[]</td>\n",
       "    </tr>\n",
       "    <tr>\n",
       "      <th>1</th>\n",
       "      <td>gir2</td>\n",
       "      <td>123</td>\n",
       "      <td>22</td>\n",
       "      <td>bekar</td>\n",
       "      <td>3000</td>\n",
       "      <td>iç anadolu</td>\n",
       "      <td>i feel like my only role now would be to tear ...</td>\n",
       "      <td>sadness; 0,46</td>\n",
       "      <td>[but, tell, had, your, that, would, only, you,...</td>\n",
       "      <td>[ashamed]</td>\n",
       "      <td>[]</td>\n",
       "    </tr>\n",
       "    <tr>\n",
       "      <th>2</th>\n",
       "      <td>gir3</td>\n",
       "      <td>123</td>\n",
       "      <td>24</td>\n",
       "      <td>bekar</td>\n",
       "      <td>2500</td>\n",
       "      <td>iç anadolu</td>\n",
       "      <td>i stole a book from one of my all time favorit...</td>\n",
       "      <td>sadness; 0,43</td>\n",
       "      <td>[that, from, because, all, last, like, my, som...</td>\n",
       "      <td>[]</td>\n",
       "      <td>[]</td>\n",
       "    </tr>\n",
       "    <tr>\n",
       "      <th>3</th>\n",
       "      <td>gir4</td>\n",
       "      <td>123</td>\n",
       "      <td>45</td>\n",
       "      <td>bekar</td>\n",
       "      <td>10000</td>\n",
       "      <td>Akdeniiz</td>\n",
       "      <td>\\ni can feel that they are kind friendly and ...</td>\n",
       "      <td>happy; 0,15</td>\n",
       "      <td>[can, that, into, world, are, too, and, of, me...</td>\n",
       "      <td>[]</td>\n",
       "      <td>[]</td>\n",
       "    </tr>\n",
       "    <tr>\n",
       "      <th>4</th>\n",
       "      <td>gir5</td>\n",
       "      <td>123</td>\n",
       "      <td>50</td>\n",
       "      <td>bekar</td>\n",
       "      <td>50000</td>\n",
       "      <td>Akdeniiz</td>\n",
       "      <td>i am running at an approximate minute pace whi...</td>\n",
       "      <td>happy; 0,15</td>\n",
       "      <td>[very, been, they, in, made, is, them, it, am,...</td>\n",
       "      <td>[approximate]</td>\n",
       "      <td>[]</td>\n",
       "    </tr>\n",
       "  </tbody>\n",
       "</table>\n",
       "</div>"
      ],
      "text/plain": [
       "  username  password  kullanıcı_yas kullanıcı_medeni_durum  gelir_seviyesi  \\\n",
       "0     gir1       123             20                  bekar            2000   \n",
       "1     gir2       123             22                  bekar            3000   \n",
       "2     gir3       123             24                  bekar            2500   \n",
       "3     gir4       123             45                  bekar           10000   \n",
       "4     gir5       123             50                  bekar           50000   \n",
       "\n",
       "  yaşanıla_bolge                                            pdfdata  \\\n",
       "0     iç anadolu  im feeling rather rotten so im not very ambiti...   \n",
       "1     iç anadolu  i feel like my only role now would be to tear ...   \n",
       "2     iç anadolu  i stole a book from one of my all time favorit...   \n",
       "3       Akdeniiz   \\ni can feel that they are kind friendly and ...   \n",
       "4       Akdeniiz  i am running at an approximate minute pace whi...   \n",
       "\n",
       "       pdf_icerk                                Pdfdata_kolay_words  \\\n",
       "0  sadness; 0,45  [very, when, not, her, now, me, from, because,...   \n",
       "1  sadness; 0,46  [but, tell, had, your, that, would, only, you,...   \n",
       "2  sadness; 0,43  [that, from, because, all, last, like, my, som...   \n",
       "3    happy; 0,15  [can, that, into, world, are, too, and, of, me...   \n",
       "4    happy; 0,15  [very, been, they, in, made, is, them, it, am,...   \n",
       "\n",
       "  Pdfdata_orta_words Pdfdata_zor_words  \n",
       "0          [ashamed]                []  \n",
       "1          [ashamed]                []  \n",
       "2                 []                []  \n",
       "3                 []                []  \n",
       "4      [approximate]                []  "
      ]
     },
     "execution_count": 1,
     "metadata": {},
     "output_type": "execute_result"
    }
   ],
   "source": [
    "import pandas as pd\n",
    "import matplotlib.pyplot as plt\n",
    "import re\n",
    "# Veri dosyasını oku\n",
    "df = pd.read_csv(\"C:/Users/a/Desktop/Okul_dök/engworddosya/user_data.csv\")\n",
    "df = df.rename(columns={'kullanıcı_meslek': 'kullanıcı_medeni_durum'})\n",
    "\n",
    "# İlk 5 satırı ekranda göster\n",
    "df.head()\n"
   ]
  },
  {
   "cell_type": "markdown",
   "id": "6a7d4e0e",
   "metadata": {},
   "source": [
    "## pdf_içerik kolonunun yeniden düzenlenmesi"
   ]
  },
  {
   "cell_type": "code",
   "execution_count": 2,
   "id": "c80b4fc1",
   "metadata": {},
   "outputs": [],
   "source": [
    "import tensorflow as tf \n",
    "import keras\n",
    "import pandas as pd\n",
    "from nltk.corpus import stopwords\n",
    "from nltk.stem.porter import PorterStemmer\n",
    "import re\n",
    "train=pd.read_table('train.txt', delimiter = ';', header=None, )\n",
    "val=pd.read_table('val.txt', delimiter = ';', header=None, )\n",
    "test=pd.read_table('test.txt', delimiter = ';', header=None, )\n",
    "\n",
    "data = pd.concat([train ,  val , test])\n",
    "data.columns = [\"text\", \"label\"]\n",
    "\n",
    "with open('train.txt', 'r') as file:\n",
    "    text_samples = []\n",
    "    emotion_labels = []\n",
    "    for line in file:\n",
    "        sample, label = line.strip().split(';')\n",
    "        text_samples.append(sample)\n",
    "        emotion_labels.append(label)\n",
    "emotion_labels = list(set(emotion_labels))\n",
    "\n",
    "data.isna().any(axis=1).sum()\n",
    "\n",
    "ps = PorterStemmer()\n",
    "\n",
    "def preprocess(line):\n",
    "    review = re.sub('[^a-zA-Z]', ' ', line) #leave only characters from a to z\n",
    "    review = review.lower() #lower the text\n",
    "    review = review.split() #turn string into list of words\n",
    "    #apply Stemming \n",
    "    review = [ps.stem(word) for word in review if not word in stopwords.words('english')] #delete stop words like I, and ,OR   review = ' '.join(review)\n",
    "    #trun list into sentences\n",
    "    return \" \".join(review)\n",
    "\n",
    "data['text']=data['text'].apply(lambda x: preprocess(x))\n",
    "\n",
    "from sklearn import preprocessing\n",
    "\n",
    "label_encoder = preprocessing.LabelEncoder()\n",
    "data['N_label'] = label_encoder.fit_transform(data['label'])\n",
    "\n",
    "\n",
    "from sklearn.feature_extraction.text import CountVectorizer\n",
    "\n",
    "cv = CountVectorizer(max_features=5000,ngram_range=(1,3))#example: the course was long-> [the,the course,the course was,course, course was, course was long,...]\n",
    "\n",
    "data_cv = cv.fit_transform(data['text']).toarray()\n"
   ]
  },
  {
   "cell_type": "code",
   "execution_count": 3,
   "id": "b7267a4b",
   "metadata": {},
   "outputs": [
    {
     "name": "stdout",
     "output_type": "stream",
     "text": [
      "1/1 [==============================] - 0s 254ms/step\n",
      "1/1 [==============================] - 0s 20ms/step\n",
      "1/1 [==============================] - 0s 17ms/step\n",
      "1/1 [==============================] - 0s 18ms/step\n",
      "1/1 [==============================] - 0s 21ms/step\n",
      "1/1 [==============================] - 0s 17ms/step\n",
      "1/1 [==============================] - 0s 16ms/step\n",
      "1/1 [==============================] - 0s 21ms/step\n",
      "1/1 [==============================] - 0s 15ms/step\n"
     ]
    }
   ],
   "source": [
    "import numpy as np\n",
    "model = keras.models.load_model('my_model.h5')\n",
    "# Veri çerçevesindeki her bir pdf_icerik verisini döngüyle işleyin\n",
    "for index, row in df.iterrows():\n",
    "    text = row['pdf_icerk']  # pdf_icerik kolonunun adını doğru şekilde belirtin\n",
    "    text = preprocess(text)\n",
    "    array = cv.transform([text]).toarray()\n",
    "    pred = model.predict(array)\n",
    "    a = np.argmax(pred, axis=1)\n",
    "    prediction = label_encoder.inverse_transform(a)[0]\n",
    "\n",
    "    # Tahmin sonucunu pdf_icerik ile yer değiştirin\n",
    "    df.loc[index, 'pdf_icerk'] = prediction\n",
    "#df.drop('prediction', axis=1, inplace=True)\n",
    "\n"
   ]
  },
  {
   "cell_type": "markdown",
   "id": "0c9a09dd",
   "metadata": {},
   "source": [
    "# Doğru şekilde duygu analizi yapılmış veri çerçevemiz hazır"
   ]
  },
  {
   "cell_type": "code",
   "execution_count": 4,
   "id": "9cb966d8",
   "metadata": {},
   "outputs": [
    {
     "data": {
      "text/html": [
       "<div>\n",
       "<style scoped>\n",
       "    .dataframe tbody tr th:only-of-type {\n",
       "        vertical-align: middle;\n",
       "    }\n",
       "\n",
       "    .dataframe tbody tr th {\n",
       "        vertical-align: top;\n",
       "    }\n",
       "\n",
       "    .dataframe thead th {\n",
       "        text-align: right;\n",
       "    }\n",
       "</style>\n",
       "<table border=\"1\" class=\"dataframe\">\n",
       "  <thead>\n",
       "    <tr style=\"text-align: right;\">\n",
       "      <th></th>\n",
       "      <th>username</th>\n",
       "      <th>password</th>\n",
       "      <th>kullanıcı_yas</th>\n",
       "      <th>kullanıcı_medeni_durum</th>\n",
       "      <th>gelir_seviyesi</th>\n",
       "      <th>yaşanıla_bolge</th>\n",
       "      <th>pdfdata</th>\n",
       "      <th>pdf_icerk</th>\n",
       "      <th>Pdfdata_kolay_words</th>\n",
       "      <th>Pdfdata_orta_words</th>\n",
       "      <th>Pdfdata_zor_words</th>\n",
       "    </tr>\n",
       "  </thead>\n",
       "  <tbody>\n",
       "    <tr>\n",
       "      <th>0</th>\n",
       "      <td>gir1</td>\n",
       "      <td>123</td>\n",
       "      <td>20</td>\n",
       "      <td>bekar</td>\n",
       "      <td>2000</td>\n",
       "      <td>iç anadolu</td>\n",
       "      <td>im feeling rather rotten so im not very ambiti...</td>\n",
       "      <td>anger</td>\n",
       "      <td>[very, when, not, her, now, me, from, because,...</td>\n",
       "      <td>[ashamed]</td>\n",
       "      <td>[]</td>\n",
       "    </tr>\n",
       "    <tr>\n",
       "      <th>1</th>\n",
       "      <td>gir2</td>\n",
       "      <td>123</td>\n",
       "      <td>22</td>\n",
       "      <td>bekar</td>\n",
       "      <td>3000</td>\n",
       "      <td>iç anadolu</td>\n",
       "      <td>i feel like my only role now would be to tear ...</td>\n",
       "      <td>anger</td>\n",
       "      <td>[but, tell, had, your, that, would, only, you,...</td>\n",
       "      <td>[ashamed]</td>\n",
       "      <td>[]</td>\n",
       "    </tr>\n",
       "    <tr>\n",
       "      <th>2</th>\n",
       "      <td>gir3</td>\n",
       "      <td>123</td>\n",
       "      <td>24</td>\n",
       "      <td>bekar</td>\n",
       "      <td>2500</td>\n",
       "      <td>iç anadolu</td>\n",
       "      <td>i stole a book from one of my all time favorit...</td>\n",
       "      <td>anger</td>\n",
       "      <td>[that, from, because, all, last, like, my, som...</td>\n",
       "      <td>[]</td>\n",
       "      <td>[]</td>\n",
       "    </tr>\n",
       "    <tr>\n",
       "      <th>3</th>\n",
       "      <td>gir4</td>\n",
       "      <td>123</td>\n",
       "      <td>45</td>\n",
       "      <td>bekar</td>\n",
       "      <td>10000</td>\n",
       "      <td>Akdeniiz</td>\n",
       "      <td>\\ni can feel that they are kind friendly and ...</td>\n",
       "      <td>joy</td>\n",
       "      <td>[can, that, into, world, are, too, and, of, me...</td>\n",
       "      <td>[]</td>\n",
       "      <td>[]</td>\n",
       "    </tr>\n",
       "    <tr>\n",
       "      <th>4</th>\n",
       "      <td>gir5</td>\n",
       "      <td>123</td>\n",
       "      <td>50</td>\n",
       "      <td>bekar</td>\n",
       "      <td>50000</td>\n",
       "      <td>Akdeniiz</td>\n",
       "      <td>i am running at an approximate minute pace whi...</td>\n",
       "      <td>joy</td>\n",
       "      <td>[very, been, they, in, made, is, them, it, am,...</td>\n",
       "      <td>[approximate]</td>\n",
       "      <td>[]</td>\n",
       "    </tr>\n",
       "  </tbody>\n",
       "</table>\n",
       "</div>"
      ],
      "text/plain": [
       "  username  password  kullanıcı_yas kullanıcı_medeni_durum  gelir_seviyesi  \\\n",
       "0     gir1       123             20                  bekar            2000   \n",
       "1     gir2       123             22                  bekar            3000   \n",
       "2     gir3       123             24                  bekar            2500   \n",
       "3     gir4       123             45                  bekar           10000   \n",
       "4     gir5       123             50                  bekar           50000   \n",
       "\n",
       "  yaşanıla_bolge                                            pdfdata pdf_icerk  \\\n",
       "0     iç anadolu  im feeling rather rotten so im not very ambiti...     anger   \n",
       "1     iç anadolu  i feel like my only role now would be to tear ...     anger   \n",
       "2     iç anadolu  i stole a book from one of my all time favorit...     anger   \n",
       "3       Akdeniiz   \\ni can feel that they are kind friendly and ...       joy   \n",
       "4       Akdeniiz  i am running at an approximate minute pace whi...       joy   \n",
       "\n",
       "                                 Pdfdata_kolay_words Pdfdata_orta_words  \\\n",
       "0  [very, when, not, her, now, me, from, because,...          [ashamed]   \n",
       "1  [but, tell, had, your, that, would, only, you,...          [ashamed]   \n",
       "2  [that, from, because, all, last, like, my, som...                 []   \n",
       "3  [can, that, into, world, are, too, and, of, me...                 []   \n",
       "4  [very, been, they, in, made, is, them, it, am,...      [approximate]   \n",
       "\n",
       "  Pdfdata_zor_words  \n",
       "0                []  \n",
       "1                []  \n",
       "2                []  \n",
       "3                []  \n",
       "4                []  "
      ]
     },
     "execution_count": 4,
     "metadata": {},
     "output_type": "execute_result"
    }
   ],
   "source": [
    "df.head()"
   ]
  },
  {
   "cell_type": "markdown",
   "id": "fea918b2",
   "metadata": {},
   "source": [
    "Aşağıdaki grafikte 20-25 yaş aralığındaki insanların daha düşük gelir seviyeseine sahip olduğunu gördük"
   ]
  },
  {
   "cell_type": "code",
   "execution_count": 5,
   "id": "977bc53e",
   "metadata": {},
   "outputs": [
    {
     "data": {
      "image/png": "[encoded data removed]",
      "text/plain": [
       "<Figure size 432x288 with 1 Axes>"
      ]
     },
     "metadata": {
      "needs_background": "light"
     },
     "output_type": "display_data"
    }
   ],
   "source": [
    "# Nokta grafiği oluştur\n",
    "plt.scatter(df[\"kullanıcı_yas\"], df[\"gelir_seviyesi\"])\n",
    "\n",
    "\n",
    "# Eksenleri adlandır ve grafiği göster\n",
    "plt.xlabel(\"Kullanıcı Yaşı\")\n",
    "plt.ylabel(\"Gelir Seviyesi\")\n",
    "plt.show()"
   ]
  },
  {
   "cell_type": "markdown",
   "id": "d6815e4f",
   "metadata": {},
   "source": [
    "bölgelere göre gelir seviyelerine baktığımızda akdeniz ve ege bölgesinde yaşayan kullanıcıların gelir seviyeleri yüksek fakat iç anadolu bölgesinde yaşayan insanların gelir seviyeleri düşük olduğıunu görüyoruz, ileride uygulamamıza premium paketi ekleyerceğimiz için içanadolu bölgesindeki BELİRLİ insanlara indirim yapabiliriz peki kimdir bu belirli insanlar bunu grafiklerle anlamaya çalışalım"
   ]
  },
  {
   "cell_type": "code",
   "execution_count": 6,
   "id": "9e022243",
   "metadata": {},
   "outputs": [
    {
     "data": {
      "image/png": "[encoded data removed]",
      "text/plain": [
       "<Figure size 432x288 with 1 Axes>"
      ]
     },
     "metadata": {
      "needs_background": "light"
     },
     "output_type": "display_data"
    }
   ],
   "source": [
    "\n",
    "# pdf_icerk sütunundaki verileri ortak string ifadesine göre grupla ve grup ismini veriye ekle\n",
    "df[\"pdf_icerk_gruplu\"] = df[\"pdf_icerk\"].apply(lambda x: x.split()[0])\n",
    "df[\"pdf_icerk_gruplu\"] = df.groupby(\"pdf_icerk_gruplu\").ngroup()\n",
    "df[\"pdf_icerk_gruplu\"] = df[\"pdf_icerk_gruplu\"].apply(lambda x: \"Grup \" + str(x))\n",
    "\n",
    "# Yaşanılan bölgeye göre gruplanmış gelir seviyeleri için çubuk grafik oluştur\n",
    "df.groupby(\"yaşanıla_bolge\")[\"gelir_seviyesi\"].mean().plot(kind=\"bar\", rot=0)\n",
    "plt.title(\"Yaşanılan Bölgeye Göre Ortalama Gelir Seviyeleri\")\n",
    "plt.xlabel(\"Yaşanılan Bölge\")\n",
    "plt.ylabel(\"Ortalama Gelir Seviyesi\")\n",
    "plt.show()\n",
    "\n",
    "\n"
   ]
  },
  {
   "cell_type": "markdown",
   "id": "126dd4c5",
   "metadata": {},
   "source": [
    "aşağıdaki grafikten de anlaşılacağı gibi iç anadolu bilgesinde indirim yapacağımız BELİRLİ kişiler bekar ve gelir seviyesi düşük kişiler olacak "
   ]
  },
  {
   "cell_type": "code",
   "execution_count": 7,
   "id": "b1917132",
   "metadata": {},
   "outputs": [
    {
     "data": {
      "image/png": "[encoded data removed]",
      "text/plain": [
       "<Figure size 720x360 with 1 Axes>"
      ]
     },
     "metadata": {
      "needs_background": "light"
     },
     "output_type": "display_data"
    }
   ],
   "source": [
    "\n",
    "# İç Anadolu bölgesinde yaşayan kullanıcılar\n",
    "df_ia = df[df[\"yaşanıla_bolge\"] == \"iç anadolu\"]\n",
    "\n",
    "\n",
    "# Medeni duruma göre gelir seviyesi dağılımını gösteren bar grafik oluştur\n",
    "fig, axs = plt.subplots(figsize=(10, 5))\n",
    "df_ia.groupby(\"kullanıcı_medeni_durum\")[\"gelir_seviyesi\"].value_counts().unstack().plot(ax=axs, kind=\"bar\", stacked=True)\n",
    "plt.tight_layout()\n",
    "plt.show()\n"
   ]
  },
  {
   "cell_type": "markdown",
   "id": "2c327941",
   "metadata": {},
   "source": [
    "# PDF verileri ve analiz edilen kelimeleri kıyaslayarak, analiz edilememiş kelimeleri bulacağız"
   ]
  },
  {
   "cell_type": "markdown",
   "id": "c4915503",
   "metadata": {},
   "source": [
    "### Pdfdata_kolay_words Pdfdata_orta_words Pdfdata_zor_words klonlarındaki kelimeleri tek bir dizi içerisinde toplayacağız"
   ]
  },
  {
   "cell_type": "code",
   "execution_count": 8,
   "id": "5d281c81",
   "metadata": {},
   "outputs": [],
   "source": [
    "# Pdfdata_kolay_words, Pdfdata_orta_words, Pdfdata_zor_words kolonlarını birleştir\n",
    "merged_data = df['Pdfdata_kolay_words'].astype(str) + df['Pdfdata_orta_words'].astype(str) + df['Pdfdata_zor_words'].astype(str)\n",
    "\n",
    "# Tüm verileri tek bir string olarak topla\n",
    "result = ''.join(merged_data)\n"
   ]
  },
  {
   "cell_type": "code",
   "execution_count": 9,
   "id": "28ff1b32",
   "metadata": {},
   "outputs": [],
   "source": [
    "pattern_brackets = r'\\[|\\]'\n",
    "pattern_comma = r','\n",
    "pattern_invalid = r'[^\\w\\s]'\n",
    "result = re.sub(pattern_brackets, '', result)\n",
    "result = re.sub(pattern_comma, '', result)\n",
    "result = re.sub(pattern_invalid, '', result)\n"
   ]
  },
  {
   "cell_type": "code",
   "execution_count": 10,
   "id": "53be60f3",
   "metadata": {},
   "outputs": [
    {
     "name": "stdout",
     "output_type": "stream",
     "text": [
      "Analiz edilmis kelimeler:  ['very', 'when', 'not', 'her', 'now', 'me', 'from', 'because', 'so', 'make', 'a', 'like', 'was', 'this', 'i', 'right', 'my', 'never', 'with', 'as', 'to', 'did', 'littleashamedbut', 'tell', 'had', 'your', 'that', 'would', 'only', 'you', 'still', 'like', 'in', 'this', 'is', 'it', 'my', 'at', 'anyone', 'who', 'be', 'away', 'for', 'not', 'and', 'now', 'of', 'have', 'a', 'or', 'may', 'will', 'go', 'i', 'also', 'the', 'with', 'what', 'able', 'from', 'because', 'all', 'last', 'like', 'my', 'something', 'be', 'for', 'two', 'not', 'same', 'and', 'of', 'now', 'have', 'a', 'or', 'will', 'one', 'i', 'the', 'tocan', 'that', 'into', 'are', 'too', 'and', 'of', 'me', 'so', 'make', 'they', 'those', 'a', 'in', 'like', 'i', 'my', 'been', 'they', 'in', 'made', 'is', 'them', 'it', 'am', 'an', 'at', 'other', 'be', 'two', 'are', 'get', 'by', 'have', 'so', 'a', 'more', 'i', 'people', 'off', 'the', 'able', 'to', 'first', 'but', 'do', 'that', 'than', 'me', 'which', 'like', 'this', 'my', 'most', 'know', 'who', 'here', 'not', 'and', 'of', 'now', 'on', 'go', 'withapproximateyour', 'that', 'you', 'new', 'made', 'this', 'is', 'it', 'am', 'even', 'for', 'bright', 'not', 'and', 'of', 'on', 'a', 'more', 'i', 'the', 'to', 'had', 'do', 'when', 'down', 'his', 'her', 'me', 'from', 'because', 'they', 'its', 'is', 'come', 'angry', 'it', 'my', 'something', 'at', 'who', 'for', 'see', 'not', 'and', 'of', 'by', 'have', 'just', 'a', 'was', 'i', 'the', 'with', 'what', 'to', 'he', 'didbut', 'some', 'tell', 'for', 'when', 'that', 'and', 'of', 'by', 'me', 'you', 'a', 'like', 'one', 'i', 'its', 'is', 'it', 'am', 'the', 'even', 'know', 'to', 'little', 'had', 'that', 'her', 'me', 'up', 'because', 'has', 'all', 'already', 'like', 'in', 'made', 'this', 'it', 'she', 'never', 'at', 'anyone', 'for', 'anything', 'and', 'of', 'think', 'a', 'or', 'i', 'the', 'such', 'to']\n"
     ]
    }
   ],
   "source": [
    "import spacy\n",
    "\n",
    "nlp = spacy.load(\"en_core_web_sm\")\n",
    "\n",
    "# İsim olarak tanımlanamayan kelimeleri saklamak için bir liste oluşturun\n",
    "analizedlms = []\n",
    "\n",
    "# String'i kelime kümelerine ayırın ve her kelime için bir analiz yapın\n",
    "for kelime in nlp(result):\n",
    "    # Eğer kelime bir isim değilse, analizedilmeyen listesine ekle\n",
    "    if not kelime.pos_ == 'PROPN' and not kelime.pos_ == 'NOUN':\n",
    "        analizedlms.append(kelime.text)\n",
    "\n",
    "# Sonuçları gösterin\n",
    "print(\"Analiz edilmis kelimeler: \", analizedlms)"
   ]
  },
  {
   "cell_type": "markdown",
   "id": "03cc15cf",
   "metadata": {},
   "source": [
    "### şimdi pdfdata kolonunda bulunan pdf verilerini tek bir string içinde topladık  "
   ]
  },
  {
   "cell_type": "code",
   "execution_count": 11,
   "id": "a083bba7",
   "metadata": {},
   "outputs": [],
   "source": [
    "toplam = ''.join(df['pdfdata'].astype(str).tolist())\n"
   ]
  },
  {
   "cell_type": "markdown",
   "id": "68e5a9b7",
   "metadata": {},
   "source": [
    "### toplanan bu string veri içerisinde analiz edilememiş kelimeleri arayacağız"
   ]
  },
  {
   "cell_type": "code",
   "execution_count": 12,
   "id": "3cd2c44f",
   "metadata": {},
   "outputs": [
    {
     "name": "stdout",
     "output_type": "stream",
     "text": [
      "['littleashamedbut', 'tocan', 'withapproximateyour', 'didbut']\n"
     ]
    }
   ],
   "source": [
    "not_in_result = []\n",
    "\n",
    "# Her kelimeyi döngüde kontrol et\n",
    "for word in analizedlms:\n",
    "    # Eğer kelime sonucun içinde değilse, listeye ekle\n",
    "    if word not in toplam.split():\n",
    "        not_in_result.append(word)\n",
    "\n",
    "# Sonucu yazdır\n",
    "print(not_in_result)"
   ]
  },
  {
   "cell_type": "markdown",
   "id": "f6cc550d",
   "metadata": {},
   "source": []
  },
  {
   "cell_type": "code",
   "execution_count": null,
   "id": "e6656592",
   "metadata": {},
   "outputs": [],
   "source": [
    "\n",
    "\n"
   ]
  },
  {
   "cell_type": "code",
   "execution_count": null,
   "id": "82016573",
   "metadata": {},
   "outputs": [],
   "source": []
  }
 ],
 "metadata": {
  "kernelspec": {
   "display_name": "Python 3 (ipykernel)",
   "language": "python",
   "name": "python3"
  },
  "language_info": {
   "codemirror_mode": {
    "name": "ipython",
    "version": 3
   },
   "file_extension": ".py",
   "mimetype": "text/x-python",
   "name": "python",
   "nbconvert_exporter": "python",
   "pygments_lexer": "ipython3",
   "version": "3.9.12"
  }
 },
 "nbformat": 4,
 "nbformat_minor": 5
}
